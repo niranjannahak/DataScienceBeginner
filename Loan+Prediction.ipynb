{
 "cells": [
  {
   "cell_type": "code",
   "execution_count": 299,
   "metadata": {
    "collapsed": true
   },
   "outputs": [],
   "source": [
    "your_local_path = \"E:/DataAnalyticsCourse/Machine_Learning/project/Datasets/Loan_prediction\""
   ]
  },
  {
   "cell_type": "code",
   "execution_count": 334,
   "metadata": {
    "collapsed": false
   },
   "outputs": [],
   "source": [
    "import pandas as pd\n",
    "import numpy as np\n",
    "import seaborn as sns\n",
    "import matplotlib.pyplot as plt\n",
    "%matplotlib inline\n",
    "plt.rcParams[\"figure.figsize\"]=(6,4)\n",
    "from sklearn.metrics import accuracy_score\n",
    "from sklearn import metrics\n",
    "from sklearn.cross_validation import train_test_split\n",
    "from sklearn.ensemble import RandomForestClassifier\n",
    "from sklearn.metrics import confusion_matrix\n",
    "from sklearn.preprocessing import Imputer\n",
    "from sklearn import tree\n"
   ]
  },
  {
   "cell_type": "code",
   "execution_count": 381,
   "metadata": {
    "collapsed": false
   },
   "outputs": [],
   "source": [
    "train = pd.read_csv(\"E:/DataAnalyticsCourse/Machine_Learning/project/Datasets/Loan_prediction/train.csv\")\n",
    "test = pd.read_csv(\"E:/DataAnalyticsCourse/Machine_Learning/project/Datasets/Loan_prediction/test.csv\")\n",
    "\n",
    "\n",
    "train['source']= 'train'\n",
    "test['source'] = 'test'\n",
    "dataset = pd.concat([train,test],ignore_index= True)\n",
    "\n",
    "dataset[\"LoanAmount\"] =dataset.LoanAmount.fillna(dataset.LoanAmount.mean())\n",
    "dataset[\"Loan_Amount_Term\"] =dataset.Loan_Amount_Term.fillna(dataset.Loan_Amount_Term.mean())\n",
    "\n",
    "dataset = dataset.apply(lambda x:x.fillna(x.value_counts().index[0]))\n",
    "\n",
    "\n",
    "dataset[\"Gender\"] = np.where(dataset.Gender ==\"male\",1,0)\n",
    "dataset[\"Married\"] = np.where(dataset.Married ==\"Yes\",1,0)\n",
    "dataset[\"Dependents\"] = np.where(dataset.Dependents ==\"0\",0,(np.where(dataset.Dependents ==\"1\",1,(np.where(dataset.Dependents ==\"2\",2,3)))))\n",
    "\n",
    "dataset[\"Education\"] = np.where(dataset.Education ==\"Graduate\",1,0)\n",
    "dataset[\"Self_Employed\"] = np.where(dataset.Self_Employed ==\"Yes\",1,0)\n",
    "dataset[\"Property_Area\"] = np.where(dataset.Property_Area ==\"Urban\",2,(np.where(dataset.Property_Area ==\"Semiurban\",1,0)))\n",
    "dataset[\"Loan_Status\"] = np.where(dataset.Loan_Status ==\"Y\",1,0)\n",
    "\n",
    "#Feature Engneering\n",
    "dataset[\"TotalIncome\"]=dataset.ApplicantIncome+dataset.CoapplicantIncome\n",
    "dataset[\"TotalIncome_log\"]=np.log(dataset.TotalIncome)\n",
    "dataset[\"LoanAmount_log\"] =np.log(dataset.LoanAmount)\n",
    "\n",
    "\n",
    "\n",
    "train = dataset.loc[dataset['source'] == \"train\"]\n",
    "test =  dataset.loc[dataset['source'] == \"test\"]\n",
    "\n",
    "#feature_cols =[\"Gender\",\"Married\",\"Dependents\",\"Education\",\"Self_Employed\",\"ApplicantIncome\",\"LoanAmount\",\"Loan_Amount_Term\",\"Credit_History\",\"Property_Area\"]\n",
    "#fearture_cols =[\"Gender\",\"Married\",\"Dependents\",\"Education\",\"Self_Employed\",\"Credit_History\",\"Property_Area\"]\n",
    "#fearture_cols = [\"Education\",\"TotalIncome_log\",\"LoanAmount_Term\",\"Credit_History\"]\n",
    "#feature_cols =[\"Self_Employed\",\"TotalIncome_log\",\"LoanAmount_log\",\"Loan_Amount_Term\",\"Credit_History\",\"Property_Area\"]\n",
    "\n",
    "X = train[feature_cols]\n",
    "y = train.Loan_Status\n",
    "\n",
    "#from sklearn.model_selection import train_test_split\n",
    "#X_Train,X_Test,Y_Train,Y_Test =  train_test_split(X,y,test_size=0.2,random_state=42)\n",
    "\n",
    "# print (X_Train.shape, Y_Train.shape)\n",
    "#print (X_Test.shape, Y_Test.shape)"
   ]
  },
  {
   "cell_type": "markdown",
   "metadata": {},
   "source": [
    "# Data Exploration and Viduslization"
   ]
  },
  {
   "cell_type": "code",
   "execution_count": 369,
   "metadata": {
    "collapsed": false
   },
   "outputs": [],
   "source": [
    "#plt.hist(train.LoanAmount_log,bins=20)\n",
    "#plt.show()\n",
    "#plt.boxplot(train.LoanAmount_log)\n",
    "#plt.show()\n",
    "#a = pd.scatter_matrix(X,alpha=0.05,figsize=(10,10),diagonal='hist')\n",
    "\n"
   ]
  },
  {
   "cell_type": "code",
   "execution_count": null,
   "metadata": {
    "collapsed": true
   },
   "outputs": [],
   "source": [
    "train[\"TotalInncome\"]=train.ApplicantIncome+train.CoapplicantIncome"
   ]
  },
  {
   "cell_type": "markdown",
   "metadata": {},
   "source": [
    "# Logistic Regression"
   ]
  },
  {
   "cell_type": "code",
   "execution_count": 382,
   "metadata": {
    "collapsed": false
   },
   "outputs": [
    {
     "name": "stdout",
     "output_type": "stream",
     "text": [
      "Model Score :  81.47\n",
      "Acc_Score :  0.788617886179\n"
     ]
    },
    {
     "data": {
      "text/plain": [
       "<matplotlib.text.Text at 0x1dd98f70>"
      ]
     },
     "execution_count": 382,
     "metadata": {},
     "output_type": "execute_result"
    },
    {
     "data": {
      "image/png": "[encoded data removed]",
      "text/plain": [
       "<matplotlib.figure.Figure at 0x1dd5e0d0>"
      ]
     },
     "metadata": {},
     "output_type": "display_data"
    }
   ],
   "source": [
    "from sklearn.linear_model import LogisticRegression\n",
    "logreg =LogisticRegression()\n",
    "logreg.fit(X_Train,Y_Train)\n",
    "Y_log_Pred = logreg.predict(X_Test).astype(int)\n",
    "Model_log = round(logreg.score(X_Train,Y_Train)*100,2)\n",
    "print(\"Model Score : \" ,Model_log)\n",
    "Acc_log = accuracy_score(Y_log_Pred,Y_Test)\n",
    "print(\"Acc_Score : \", Acc_log)\n",
    "\n",
    "#Confusion Metrix \n",
    "\n",
    "from sklearn import metrics\n",
    "cnf_metrix = (metrics.confusion_matrix(Y_Test,Y_log_Pred))\n",
    "cmap = sns.cubehelix_palette(50, hue=0.5, rot=0, light=0.9, dark=0, as_cmap=True)\n",
    "sns.heatmap(cnf_metrix,cmap = cmap,xticklabels=['0','1'],yticklabels=['0','1'],annot=True, fmt=\"d\",)\n",
    "plt.xlabel('Predicted')\n",
    "plt.ylabel('Actual')\n"
   ]
  },
  {
   "cell_type": "code",
   "execution_count": 388,
   "metadata": {
    "collapsed": false
   },
   "outputs": [
    {
     "name": "stdout",
     "output_type": "stream",
     "text": [
      "80.78\n"
     ]
    }
   ],
   "source": [
    "\n",
    "## Submission\n",
    "\n",
    "X_train = train[feature_cols]\n",
    "Y_train =  train.Loan_Status\n",
    "X_test = test[feature_cols]\n",
    "\n",
    "logreg = LogisticRegression()\n",
    "logreg.fit(X_train, Y_train)\n",
    "Y_log_pred = logreg.predict(X_test).astype(int)\n",
    "acc_log = round(logreg.score(X_train,Y_train)*100,2)\n",
    "acc_log\n",
    "\n",
    "submission = pd.DataFrame({\n",
    "        \"Loan_ID\": test[\"Loan_ID\"],\n",
    "        \"Loan_Status\": Y_log_pred\n",
    "    })\n",
    "submission[\"Loan_Status\"] = np.where(submission.Loan_Status ==1,\"Y\",\"N\")\n",
    "\n",
    "submission.to_csv('E:/DataAnalyticsCourse/Machine_Learning/project/Datasets/Loan_prediction/submission.csv', index=False)\n",
    "print(acc_log)"
   ]
  },
  {
   "cell_type": "markdown",
   "metadata": {},
   "source": [
    "# Decision Tree"
   ]
  },
  {
   "cell_type": "code",
   "execution_count": 366,
   "metadata": {
    "collapsed": false
   },
   "outputs": [
    {
     "name": "stdout",
     "output_type": "stream",
     "text": [
      "Model Score :  83.1\n",
      "Acc_Score :  0.756097560976\n"
     ]
    },
    {
     "data": {
      "text/plain": [
       "<matplotlib.text.Text at 0x224b7df0>"
      ]
     },
     "execution_count": 366,
     "metadata": {},
     "output_type": "execute_result"
    },
    {
     "data": {
      "image/png": "[encoded data removed]",
      "text/plain": [
       "<matplotlib.figure.Figure at 0x226ab630>"
      ]
     },
     "metadata": {},
     "output_type": "display_data"
    }
   ],
   "source": [
    "from sklearn import tree\n",
    "my_one_tree = tree.DecisionTreeClassifier(criterion=\"entropy\",max_depth=3)\n",
    "\n",
    "my_one_tree.fit(X_Train,Y_Train)\n",
    "Y_tree_Pred = my_one_tree.predict(X_Test).astype(int)\n",
    "\n",
    "\n",
    "\n",
    "Model_tree = round(my_one_tree.score(X_Train,Y_Train)*100,2)\n",
    "print(\"Model Score : \" ,Model_tree)\n",
    "Acc_tree = accuracy_score(Y_tree_Pred,Y_Test,normalize=True)\n",
    "print(\"Acc_Score : \", Acc_tree)\n",
    "\n",
    "#Confusion Metrix \n",
    "\n",
    "from sklearn import metrics\n",
    "cnf_metrix = (metrics.confusion_matrix(Y_Test,Y_tree_Pred))\n",
    "cmap = sns.cubehelix_palette(50, hue=0.5, rot=0, light=0.9, dark=0, as_cmap=True)\n",
    "sns.heatmap(cnf_metrix,cmap = cmap,xticklabels=['0','1'],yticklabels=['0','1'],annot=True, fmt=\"d\",)\n",
    "plt.xlabel('Predicted')\n",
    "plt.ylabel('Actual')"
   ]
  },
  {
   "cell_type": "markdown",
   "metadata": {},
   "source": [
    "# Random Forest"
   ]
  },
  {
   "cell_type": "code",
   "execution_count": 367,
   "metadata": {
    "collapsed": false
   },
   "outputs": [
    {
     "name": "stdout",
     "output_type": "stream",
     "text": [
      "Model Score :  82.28\n",
      "Acc_Score :  0.788617886179\n"
     ]
    },
    {
     "data": {
      "text/plain": [
       "<matplotlib.text.Text at 0x2254c7f0>"
      ]
     },
     "execution_count": 367,
     "metadata": {},
     "output_type": "execute_result"
    },
    {
     "data": {
      "image/png": "[encoded data removed]",
      "text/plain": [
       "<matplotlib.figure.Figure at 0x224df070>"
      ]
     },
     "metadata": {},
     "output_type": "display_data"
    }
   ],
   "source": [
    "from sklearn import tree\n",
    "forest = RandomForestClassifier(max_depth = 3, min_samples_split=2, n_estimators = 50, random_state = 1)\n",
    "\n",
    "forest.fit(X_Train,Y_Train)\n",
    "Y_forest_Pred = forest.predict(X_Test).astype(int)\n",
    "\n",
    "Model_forest = round(forest.score(X_Train,Y_Train)*100,2)\n",
    "print(\"Model Score : \" ,Model_forest)\n",
    "Acc_forest = metrics.accuracy_score(Y_forest_Pred,Y_Test,normalize=True)\n",
    "print(\"Acc_Score : \", Acc_forest)\n",
    "\n",
    "#Confusion Metrix \n",
    "\n",
    "from sklearn import metrics\n",
    "cnf_metrix = (metrics.confusion_matrix(Y_Test,Y_forest_Pred))\n",
    "cmap = sns.cubehelix_palette(50, hue=0.5, rot=0, light=0.9, dark=0, as_cmap=True)\n",
    "sns.heatmap(cnf_metrix,cmap = cmap,xticklabels=['0','1'],yticklabels=['0','1'],annot=True, fmt=\"d\",)\n",
    "plt.xlabel('Predicted')\n",
    "plt.ylabel('Actual')"
   ]
  },
  {
   "cell_type": "markdown",
   "metadata": {},
   "source": [
    "# K-Fold"
   ]
  },
  {
   "cell_type": "code",
   "execution_count": 368,
   "metadata": {
    "collapsed": false
   },
   "outputs": [
    {
     "name": "stdout",
     "output_type": "stream",
     "text": [
      "Log: [ 0.81451613  0.76612903  0.78688525  0.86065574  0.81967213]\n",
      "Log: 0.809571655209\n",
      "tree: [ 0.79032258  0.75        0.78688525  0.8442623   0.81967213]\n",
      "tree: 0.798228450555\n",
      "forest: [ 0.81451613  0.76612903  0.78688525  0.8442623   0.81967213]\n",
      "forest: 0.806292966684\n"
     ]
    }
   ],
   "source": [
    "from sklearn.cross_validation import cross_val_score #importing cross validation package\n",
    "# 5-fold cross-validation on logistic regression\n",
    "\n",
    "scores = cross_val_score(logreg, X, y, cv=5, scoring='accuracy') #fitting logistic regression to whole data with 5 fold\n",
    "print(\"Log:\",scores)\n",
    "print(\"Log:\" ,scores.mean())\n",
    "\n",
    "\n",
    "scores = cross_val_score(my_one_tree, X, y, cv=5, scoring='accuracy') #fitting logistic regression to whole data with 5 fold\n",
    "print(\"tree:\",scores)\n",
    "print(\"tree:\" ,scores.mean())\n",
    "\n",
    "\n",
    "\n",
    "scores = cross_val_score(forest, X, y, cv=5, scoring='accuracy') #fitting logistic regression to whole data with 5 fold\n",
    "print(\"forest:\",scores)\n",
    "print(\"forest:\" ,scores.mean())"
   ]
  },
  {
   "cell_type": "code",
   "execution_count": null,
   "metadata": {
    "collapsed": true
   },
   "outputs": [],
   "source": []
  }
 ],
 "metadata": {
  "kernelspec": {
   "display_name": "Python 3",
   "language": "python",
   "name": "python3"
  },
  "language_info": {
   "codemirror_mode": {
    "name": "ipython",
    "version": 3
   },
   "file_extension": ".py",
   "mimetype": "text/x-python",
   "name": "python",
   "nbconvert_exporter": "python",
   "pygments_lexer": "ipython3",
   "version": "3.6.0"
  }
 },
 "nbformat": 4,
 "nbformat_minor": 2
}
